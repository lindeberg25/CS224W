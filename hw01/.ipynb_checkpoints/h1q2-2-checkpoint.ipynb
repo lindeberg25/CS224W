{
 "cells": [
  {
   "cell_type": "code",
   "execution_count": 11,
   "metadata": {},
   "outputs": [],
   "source": [
    "import snap\n",
    "import numpy as np\n",
    "import matplotlib.pyplot as plt"
   ]
  },
  {
   "cell_type": "code",
   "execution_count": 12,
   "metadata": {},
   "outputs": [],
   "source": [
    "def extract_basic_feature(node, graph):\n",
    "    \"\"\"\n",
    "    Calculate three basic features for input node v\n",
    "    1. degree of v\n",
    "    2. number of edges in the egonet of node v\n",
    "       here we have to iterate every node\n",
    "    3. number of edges enter or leaving the egonet of node v\n",
    "       here it's a undirected and unweighted graph, so we \n",
    "       can simplely count it with (tot_edges-inner_edges)\n",
    "    Note that inner_edges and double edges \n",
    "    count every inner edge twice\n",
    "    \"\"\"\n",
    "    \n",
    "    v = [node.GetDeg()]\n",
    "    tot_edges = v[0]\n",
    "    nbrs = set([node.GetId()])\n",
    "    for i in range(v[0]):\n",
    "        cur_nbr = graph.GetNI(node.GetNbrNId(i))\n",
    "        nbrs.add(cur_nbr.GetId())\n",
    "        tot_edges += cur_nbr.GetDeg()\n",
    "    \n",
    "    inner_edges = v[0]\n",
    "    for i in range(v[0]):\n",
    "        cur_nbr = graph.GetNI(node.GetNbrNId(i))\n",
    "        cur_nbr_deg = cur_nbr.GetDeg()\n",
    "        for j in range(cur_nbr_deg):\n",
    "            inner_edges += cur_nbr.GetNbrNId(j) in nbrs\n",
    "     \n",
    "    v.append(inner_edges//2)\n",
    "    v.append(tot_edges - inner_edges)\n",
    "\n",
    "    return np.array(v)"
   ]
  },
  {
   "cell_type": "code",
   "execution_count": 13,
   "metadata": {},
   "outputs": [],
   "source": [
    "def cal_cos_sim(a, b):\n",
    "    if np.linalg.norm(a) == 0 or np.linalg.norm(b) == 0:\n",
    "        return 0.0\n",
    "    return np.dot(a, b) / (np.linalg.norm(a) * np.linalg.norm(b))\n",
    "\n",
    "\n",
    "\n"
   ]
  },
  {
   "cell_type": "code",
   "execution_count": 14,
   "metadata": {},
   "outputs": [],
   "source": [
    "def cal_initial_feature(graph):\n",
    "    v_mat = []\n",
    "    for node in graph.Nodes():\n",
    "        v_mat.append(extract_basic_feature(node, graph))\n",
    "    return np.array(v_mat)"
   ]
  },
  {
   "cell_type": "code",
   "execution_count": 15,
   "metadata": {},
   "outputs": [],
   "source": [
    "def aggregrate(v, graph):\n",
    "    v_ori = v.copy()\n",
    "    n, f = v.shape\n",
    "    v_mean = np.zeros(v.shape)\n",
    "    v_sum = np.zeros(v.shape)\n",
    "    for node in graph.Nodes():\n",
    "        deg = node.GetDeg()\n",
    "        for i in range(deg):\n",
    "            v_sum[node.GetId()] += v_ori[node.GetNbrNId(i)]\n",
    "        v_mean[node.GetId()] = v_sum[node.GetId()] / deg if deg != 0 else 0\n",
    "    # n x 3*f\n",
    "    return np.concatenate((v_ori, v_mean, v_sum), axis=1)"
   ]
  },
  {
   "cell_type": "code",
   "execution_count": 16,
   "metadata": {},
   "outputs": [],
   "source": [
    "def q2_1():\n",
    "    print(\"============\")\n",
    "    G1 = snap.TUNGraph.New()\n",
    "    G1.AddNode(1)\n",
    "    G1.AddNode(2)\n",
    "    G1.AddNode(3)\n",
    "    G1.AddNode(4)\n",
    "    G1.AddNode(5)\n",
    "    G1.AddNode(6)\n",
    "    G1.AddNode(7)\n",
    "    G1.AddNode(8)\n",
    "    G1.AddNode(9)\n",
    "\n",
    "    G1.AddEdge(1,2)\n",
    "    G1.AddEdge(1,3)\n",
    "    G1.AddEdge(1,4)\n",
    "    G1.AddEdge(1,5)\n",
    "\n",
    "    G1.AddEdge(2,6)\n",
    "    G1.AddEdge(6,7)\n",
    "    G1.AddEdge(7,8)\n",
    "    G1.AddEdge(8,9)\n",
    "    G1.AddEdge(9,2)\n",
    "\n",
    "    NId=9\n",
    "    #result = calcTopkRecursiveSimilarity(G1.GetNI(NId), G1, 5)\n",
    "    \n",
    "    \n",
    "    \n",
    "    \n",
    "    \n",
    "    \n",
    "    \n",
    "    \n",
    "    \n",
    "    v_9 = extract_basic_feature(G1.GetNI(9), G1)\n",
    "    # print(v_9)\n",
    "    # exit()\n",
    "    v_mat = cal_initial_feature(G1)\n",
    "\n",
    "    cos_sim = [(i, cal_cos_sim(v_9, v)) for i, v in enumerate(v_mat)]\n",
    "    cos_sim.sort(key=lambda y: y[1], reverse=True)\n",
    "    print(\"Feature vector of node 9 is: \", v_9)\n",
    "    print(\"Top 5 nodes at most similar to node 9 are: \")\n",
    "    lst_sim = 1.0\n",
    "    cnt_node = 0\n",
    "    for node in cos_sim:\n",
    "        if lst_sim-node[1]<=1e-6:\n",
    "            continue\n",
    "        lst_sim = node[1]\n",
    "        print(node, end=\" \")\n",
    "        cnt_node += 1\n",
    "        if cnt_node >= 5:\n",
    "            break\n",
    "    print(\"\\n============\")"
   ]
  },
  {
   "cell_type": "code",
   "execution_count": null,
   "metadata": {},
   "outputs": [],
   "source": []
  },
  {
   "cell_type": "code",
   "execution_count": 17,
   "metadata": {},
   "outputs": [
    {
     "name": "stdout",
     "output_type": "stream",
     "text": [
      "============\n",
      "Feature vector of node 9 is:  [2 2 3]\n",
      "Top 5 nodes at most similar to node 9 are: \n",
      "(1, 0.9986310739646673) (6, 0.9801960588196069) (2, 0.9506541513652698) (0, 0.8892972917998876) \n",
      "============\n"
     ]
    }
   ],
   "source": [
    "q2_1()"
   ]
  },
  {
   "cell_type": "code",
   "execution_count": null,
   "metadata": {},
   "outputs": [],
   "source": []
  }
 ],
 "metadata": {
  "kernelspec": {
   "display_name": "Python 3",
   "language": "python",
   "name": "python3"
  },
  "language_info": {
   "codemirror_mode": {
    "name": "ipython",
    "version": 3
   },
   "file_extension": ".py",
   "mimetype": "text/x-python",
   "name": "python",
   "nbconvert_exporter": "python",
   "pygments_lexer": "ipython3",
   "version": "3.6.5"
  }
 },
 "nbformat": 4,
 "nbformat_minor": 2
}
