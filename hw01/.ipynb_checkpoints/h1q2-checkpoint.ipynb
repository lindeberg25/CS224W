{
 "cells": [
  {
   "cell_type": "code",
   "execution_count": 1,
   "metadata": {},
   "outputs": [],
   "source": [
    "#!python -m pip install snap-stanford\n",
    "#!pip install numpy\n",
    "#!pip install matplotlib\n",
    "#!pip uninstall snap"
   ]
  },
  {
   "cell_type": "code",
   "execution_count": 2,
   "metadata": {},
   "outputs": [],
   "source": [
    "\n",
    "import snap\n",
    "import numpy as np\n",
    "import matplotlib.pyplot as plt"
   ]
  },
  {
   "cell_type": "code",
   "execution_count": 3,
   "metadata": {},
   "outputs": [],
   "source": [
    "# Calculo da caracteristicas básicas de uma determinado nó: grau, quantidade de aresta de da egonet e quantidade de aresta\n",
    "# que entram e saem da egonet\n",
    "def BasicFeature(Node, Graph):\n",
    "    deg = Node.GetDeg()\n",
    "    nIntraEdges = GetEgonetIntraEdges(Node, Graph)\n",
    "    nOuterEdges = GetEgonetOuterEdges(Node, Graph)\n",
    "    return np.array([deg, nIntraEdges, nOuterEdges])"
   ]
  },
  {
   "cell_type": "code",
   "execution_count": 4,
   "metadata": {},
   "outputs": [],
   "source": [
    "# número de aresta internas da egonet\n",
    "# Para cada vizinho do node, verifica se existe uma aresta entre os outros vizinhos\n",
    "def GetEgonetIntraEdges(Node, Graph):\n",
    "    k = Node.GetDeg()\n",
    "    nIntraEdges = k\n",
    "    for i in range(k-1):\n",
    "        for j in range(i+1, k):\n",
    "            nbr1 = Node.GetNbrNId(i)\n",
    "            nbr2 = Node.GetNbrNId(j)\n",
    "            ## check existense of edge between i-th and j-th neighboring node.\n",
    "            if Graph.IsEdge(nbr1, nbr2):\n",
    "                nIntraEdges += 1\n",
    "    return nIntraEdges\n",
    "\n"
   ]
  },
  {
   "cell_type": "code",
   "execution_count": 5,
   "metadata": {},
   "outputs": [],
   "source": [
    "# número de aresta externas da egonet, ou seja, arestas qu entram ou que saem da egonet\n",
    "# A função GetNbrNId pega o ID do vizinho a partir do número do vizinho (por exemplo, se possui grau 2, possui \n",
    "# dois vizinhos- grafo não direcioando. Ela recebe o número 1, que corresponde a primeiro viziho, número 2, que correspon-\n",
    "#de ao terceiro vizinho e assim sucessivamente, retornado o ID de cada vizinho)\n",
    "def GetEgonetOuterEdges(Node, Graph):\n",
    "    k = Node.GetDeg()\n",
    "    # vetor que contém o ID dos vizinhos\n",
    "    nbrs = [Node.GetNbrNId(i) for i in range(k)]\n",
    "    \n",
    "    nOuterEdges = 0\n",
    "    for i in range(k):\n",
    "        #NI contém o Node de cada vizinho\n",
    "        NI = Graph.GetNI(Node.GetNbrNId(i))\n",
    "        # kn contém o grau de cada vizinho\n",
    "        kN = NI.GetDeg()\n",
    "        # subtrai um, pois a aresta entre o no central (egonet node) e seu vizinho não é contada\n",
    "        c = kN - 1\n",
    "        # checa se existe aresta fazendo parte da egonet (aresta entre vizinhos(alters))\n",
    "        for j in range(kN):\n",
    "            if NI.GetNbrNId(j) in nbrs:\n",
    "                c -= 1\n",
    "        # Note que para cada vizinho não são contadas as aresta que fazem parte da egonet. Desse modo, o que sobra é \n",
    "        # quantidade de aresta que entra e sai da egonet para cada nó. Logo esse valor é adicionada a variável acumuladora \n",
    "        nOuterEdges += c\n",
    "    return nOuterEdges\n",
    "#GetEgonetOuterEdges(G1.GetNI(9), G1)"
   ]
  },
  {
   "cell_type": "code",
   "execution_count": 6,
   "metadata": {},
   "outputs": [],
   "source": [
    "def CosineSimilarity(x, y):\n",
    "    xx = np.dot(x, x)\n",
    "    yy = np.dot(y, y)\n",
    "    if xx == 0 or yy == 0:\n",
    "        return 0.0\n",
    "    else:\n",
    "        xy = np.dot(x, y)\n",
    "        return float(xy) / np.sqrt(xx * yy)"
   ]
  },
  {
   "cell_type": "code",
   "execution_count": 7,
   "metadata": {},
   "outputs": [],
   "source": [
    "def FindNearestKBasic(NId, Graph, k):\n",
    "    Vs = {}\n",
    "    for NI in Graph.Nodes():\n",
    "        Vs[NI.GetId()] = BasicFeature(NI, Graph)\n",
    "\n",
    "    dsts = []\n",
    "    for NI in Graph.Nodes():\n",
    "        if NI.GetId() == NId:\n",
    "            # passa para o próximo elemento do for quando encontra o mesmo NId \n",
    "            continue\n",
    "        d = CosineSimilarity(Vs[NId], Vs[NI.GetId()])\n",
    "        # adiciona a distancia, o ID do nó a que se refere essa distância e as características básica do nó\n",
    "        dsts.append((d, NI.GetId(), Vs[NI.GetId()]))\n",
    "    # organiza em decrescente\n",
    "    dsts = sorted(dsts, reverse=True)\n",
    "    # retorna os k primeiros elementos\n",
    "    return dsts[:k]\n",
    "#FindNearestKBasic(9,G1,5)"
   ]
  },
  {
   "cell_type": "code",
   "execution_count": 8,
   "metadata": {},
   "outputs": [],
   "source": [
    "\n",
    "def RecursiveFeature(Graph, K=2):\n",
    "    \n",
    "    # cada nó com suas características básicas\n",
    "    Vs = {NI.GetId(): BasicFeature(NI, Graph) for NI in Graph.Nodes()}\n",
    "    \n",
    "    for it in range(K):\n",
    "        # nó corrente com suas características básicas\n",
    "        Vs_cur = {k: v for k, v in Vs.items()}\n",
    "        #O vetor busca pela chave. Por exemplo, Vs_cur[1] vai pegar de 1:[4,4,2] o valor [4,4,2]\n",
    "        for NId, _ in Vs.items():\n",
    "            NI = Graph.GetNI(NId)\n",
    "            #Nó Vu com suas características básicas\n",
    "            Vu = Vs_cur[NId]\n",
    "            \n",
    "            if NI.GetDeg() == 0:\n",
    "                Vsum = np.zeros_like(Vu)\n",
    "                Vmean = np.zeros_like(Vu)\n",
    "            else:\n",
    "                Vsum = np.zeros_like(Vu)\n",
    "                # passa pelos vizinhos de cada nó\n",
    "                for i in range(NI.GetDeg()):\n",
    "                    # soma os IDs dos vizinhos\n",
    "                    # O NI.GetNbrNId(i) pega o ID de cada vizinho. Depois recupera as caracteríticas do vizinho\n",
    "                    Vsum += Vs_cur[NI.GetNbrNId(i)]\n",
    "                # tira a média dos vizinhos\n",
    "                Vmean = Vsum / NI.GetDeg()\n",
    "            Vs[NI.GetId()] = np.hstack([Vu, Vsum, Vmean])\n",
    "           \n",
    "    return Vs\n",
    "\n"
   ]
  },
  {
   "cell_type": "code",
   "execution_count": 48,
   "metadata": {
    "scrolled": false
   },
   "outputs": [
    {
     "data": {
      "image/png": "[encoded data removed]",
      "text/plain": [
       "<Figure size 576x576 with 1 Axes>"
      ]
     },
     "metadata": {},
     "output_type": "display_data"
    }
   ],
   "source": [
    "G1 = snap.TUNGraph.New()\n",
    "G1.AddNode(1)\n",
    "G1.AddNode(2)\n",
    "G1.AddNode(3)\n",
    "G1.AddNode(4)\n",
    "G1.AddNode(5)\n",
    "G1.AddNode(6)\n",
    "G1.AddNode(7)\n",
    "G1.AddNode(8)\n",
    "G1.AddNode(9)\n",
    "    \n",
    "G1.AddEdge(1,2)\n",
    "G1.AddEdge(1,3)\n",
    "G1.AddEdge(1,4)\n",
    "G1.AddEdge(1,5)\n",
    "\n",
    "G1.AddEdge(2,6)\n",
    "G1.AddEdge(6,7)\n",
    "G1.AddEdge(7,8)\n",
    "G1.AddEdge(8,9)\n",
    "G1.AddEdge(9,2)\n",
    "\n",
    "S = snap.TIntStrH()\n",
    "S.AddDat(1,\"1\")\n",
    "S.AddDat(2,\"2\")\n",
    "S.AddDat(3,\"3\")\n",
    "S.AddDat(4,\"4\")\n",
    "S.AddDat(5,\"5\")\n",
    "S.AddDat(6,\"6\")\n",
    "S.AddDat(7,\"7\")\n",
    "S.AddDat(8,\"8\")\n",
    "S.AddDat(9,\"9\")\n",
    "\n",
    "NId=9\n",
    "result = FindNearestKBasic(NId, G1, 5)\n",
    "\n",
    "#result\n",
    "\n",
    "snap.DrawGViz(G1, snap.gvlCirco, \"graph.png\", \"Graph\", S)\n",
    "\n",
    "\n",
    "img = mpimg.imread('graph.png')\n",
    "plt.figure(figsize = (8,8))\n",
    "plt.imshow(img)\n",
    "plt.show()"
   ]
  },
  {
   "cell_type": "code",
   "execution_count": null,
   "metadata": {},
   "outputs": [],
   "source": [
    "# Vs = RecursiveFeature(G1, 2)\n",
    "dsts = [(CosineSimilarity(Vs[NId], Vs[NI.GetId()]), NI.GetId()) for NI in G1.Nodes() if NI.GetId() != NId]\n",
    "\n",
    "# organiza em decrescente\n",
    "dsts = sorted(dsts, reverse=True)\n",
    "\n",
    "# retorna os k primeiros elementos\n",
    "print (dsts[:5])\n",
    "\n",
    "#print(dsts)\n",
    "\n",
    "#a, b, c = plt.hist(dsts, bins=20)\n",
    "#print(b)"
   ]
  },
  {
   "cell_type": "code",
   "execution_count": 11,
   "metadata": {},
   "outputs": [],
   "source": [
    "# Note que o resultado quando se considera caracteríticas recursivas é mais expressivo. Isso se deve ao fato que é possível \n",
    "# capturar informações dos vizinhos dos vizinhos, diferente de quando se considera apenas as caracterísitca básica, em que \n",
    "# se tem informações apenas da vizinhança local mais próxima do nó. Perceba que o nó 8 de fato possui o comportamento \n",
    "# mais semelhante ao nó 9 do que o nó 2, por isso aparece ranqueado na segunda posição no processo que considera caracte-\n",
    "#rísitcas recursivas, enquanto que no processo de caracteríticas básicas aparece na terceira posição"
   ]
  },
  {
   "cell_type": "code",
   "execution_count": 47,
   "metadata": {},
   "outputs": [
    {
     "name": "stdout",
     "output_type": "stream",
     "text": [
      "[0.87057039 0.91371359 0.9568568  1.        ]\n"
     ]
    },
    {
     "data": {
      "image/png": "[encoded data removed]",
      "text/plain": [
       "<Figure size 432x288 with 1 Axes>"
      ]
     },
     "metadata": {},
     "output_type": "display_data"
    }
   ],
   "source": [
    "dsts_bin = []\n",
    "for x in dsts:\n",
    "    dsts_bin.append(x[0])\n",
    "a, b, c = plt.hist(dsts_bin, bins=3)\n",
    "print(b)"
   ]
  },
  {
   "cell_type": "code",
   "execution_count": 49,
   "metadata": {},
   "outputs": [],
   "source": [
    "def getSubgraph(Node, Graph, hop=3):\n",
    "    NodeVecAll = snap.TIntV()\n",
    "    \n",
    "    for i in range(1, hop+1):  \n",
    "        NodeVec = snap.TIntV()\n",
    "        snap.GetNodesAtHop(Graph, Node.GetId(), i, NodeVec, False)\n",
    "        for item in NodeVec:\n",
    "            NodeVecAll.Add(item)\n",
    "    NodeVecAll.Add(Node.GetId())\n",
    "    \n",
    "    SubGraph = snap.GetSubGraph(Graph, NodeVecAll)\n",
    "    return SubGraph"
   ]
  },
  {
   "cell_type": "code",
   "execution_count": 15,
   "metadata": {},
   "outputs": [],
   "source": []
  },
  {
   "cell_type": "code",
   "execution_count": null,
   "metadata": {},
   "outputs": [],
   "source": []
  }
 ],
 "metadata": {
  "kernelspec": {
   "display_name": "Python 3",
   "language": "python",
   "name": "python3"
  },
  "language_info": {
   "codemirror_mode": {
    "name": "ipython",
    "version": 3
   },
   "file_extension": ".py",
   "mimetype": "text/x-python",
   "name": "python",
   "nbconvert_exporter": "python",
   "pygments_lexer": "ipython3",
   "version": "3.6.5"
  }
 },
 "nbformat": 4,
 "nbformat_minor": 2
}
